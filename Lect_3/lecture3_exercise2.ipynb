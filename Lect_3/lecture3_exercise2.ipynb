{
 "cells": [
  {
   "cell_type": "markdown",
   "metadata": {},
   "source": [
    "#### 1)Import Packages"
   ]
  },
  {
   "cell_type": "code",
   "execution_count": 374,
   "metadata": {},
   "outputs": [],
   "source": [
    "import pypsa\n",
    "import os\n",
    "import matplotlib.pyplot as plt\n",
    "import numpy as np\n",
    "import pandas as pd\n",
    "import warnings\n",
    "import subprocess\n",
    "from shapely.errors import ShapelyDeprecationWarning\n",
    "import logging"
   ]
  },
  {
   "cell_type": "markdown",
   "metadata": {},
   "source": [
    "#### 2)Create a network and set Snapshots"
   ]
  },
  {
   "cell_type": "code",
   "execution_count": 375,
   "metadata": {},
   "outputs": [],
   "source": [
    "# Create a new PyPSA network\n",
    "network = pypsa.Network()\n",
    "network.set_snapshots(range(1))"
   ]
  },
  {
   "cell_type": "code",
   "execution_count": 376,
   "metadata": {},
   "outputs": [
    {
     "data": {
      "text/plain": [
       "pypsa.components.Network"
      ]
     },
     "execution_count": 376,
     "metadata": {},
     "output_type": "execute_result"
    }
   ],
   "source": [
    "type(network)"
   ]
  },
  {
   "cell_type": "markdown",
   "metadata": {},
   "source": [
    "#### 3)Add Buses"
   ]
  },
  {
   "cell_type": "code",
   "execution_count": 377,
   "metadata": {},
   "outputs": [],
   "source": [
    "# Read excel file which contains Non renewable generators data\n",
    "bus=pd.read_excel('data_exercise2.xlsx',sheet_name='buses',header=0)"
   ]
  },
  {
   "cell_type": "code",
   "execution_count": 378,
   "metadata": {},
   "outputs": [
    {
     "data": {
      "text/html": [
       "<div>\n",
       "<style scoped>\n",
       "    .dataframe tbody tr th:only-of-type {\n",
       "        vertical-align: middle;\n",
       "    }\n",
       "\n",
       "    .dataframe tbody tr th {\n",
       "        vertical-align: top;\n",
       "    }\n",
       "\n",
       "    .dataframe thead th {\n",
       "        text-align: right;\n",
       "    }\n",
       "</style>\n",
       "<table border=\"1\" class=\"dataframe\">\n",
       "  <thead>\n",
       "    <tr style=\"text-align: right;\">\n",
       "      <th></th>\n",
       "      <th>line</th>\n",
       "      <th>bus</th>\n",
       "      <th>v_nom</th>\n",
       "      <th>carrier</th>\n",
       "      <th>x</th>\n",
       "      <th>y</th>\n",
       "    </tr>\n",
       "  </thead>\n",
       "  <tbody>\n",
       "    <tr>\n",
       "      <th>0</th>\n",
       "      <td>1</td>\n",
       "      <td>north_de</td>\n",
       "      <td>380</td>\n",
       "      <td>AC</td>\n",
       "      <td>9.598183</td>\n",
       "      <td>53.558527</td>\n",
       "    </tr>\n",
       "    <tr>\n",
       "      <th>1</th>\n",
       "      <td>2</td>\n",
       "      <td>east_de</td>\n",
       "      <td>380</td>\n",
       "      <td>AC</td>\n",
       "      <td>13.607778</td>\n",
       "      <td>51.076934</td>\n",
       "    </tr>\n",
       "    <tr>\n",
       "      <th>2</th>\n",
       "      <td>3</td>\n",
       "      <td>west_de</td>\n",
       "      <td>380</td>\n",
       "      <td>AC</td>\n",
       "      <td>6.802514</td>\n",
       "      <td>50.957803</td>\n",
       "    </tr>\n",
       "  </tbody>\n",
       "</table>\n",
       "</div>"
      ],
      "text/plain": [
       "   line       bus  v_nom carrier          x          y\n",
       "0     1  north_de    380      AC   9.598183  53.558527\n",
       "1     2   east_de    380      AC  13.607778  51.076934\n",
       "2     3   west_de    380      AC   6.802514  50.957803"
      ]
     },
     "execution_count": 378,
     "metadata": {},
     "output_type": "execute_result"
    }
   ],
   "source": [
    "bus"
   ]
  },
  {
   "cell_type": "code",
   "execution_count": 379,
   "metadata": {},
   "outputs": [],
   "source": [
    "for index, row in bus.iterrows():\n",
    "    network.add(\n",
    "        \"Bus\",\n",
    "        name=row['bus'],\n",
    "        v_nom=row['v_nom'],\n",
    "        carrier=row['carrier'],\n",
    "        x=row['x'],\n",
    "        y=row['y']\n",
    "    )"
   ]
  },
  {
   "cell_type": "code",
   "execution_count": 380,
   "metadata": {},
   "outputs": [
    {
     "data": {
      "text/html": [
       "<div>\n",
       "<style scoped>\n",
       "    .dataframe tbody tr th:only-of-type {\n",
       "        vertical-align: middle;\n",
       "    }\n",
       "\n",
       "    .dataframe tbody tr th {\n",
       "        vertical-align: top;\n",
       "    }\n",
       "\n",
       "    .dataframe thead th {\n",
       "        text-align: right;\n",
       "    }\n",
       "</style>\n",
       "<table border=\"1\" class=\"dataframe\">\n",
       "  <thead>\n",
       "    <tr style=\"text-align: right;\">\n",
       "      <th></th>\n",
       "      <th>v_nom</th>\n",
       "      <th>type</th>\n",
       "      <th>x</th>\n",
       "      <th>y</th>\n",
       "      <th>carrier</th>\n",
       "      <th>unit</th>\n",
       "      <th>v_mag_pu_set</th>\n",
       "      <th>v_mag_pu_min</th>\n",
       "      <th>v_mag_pu_max</th>\n",
       "      <th>control</th>\n",
       "      <th>generator</th>\n",
       "      <th>sub_network</th>\n",
       "    </tr>\n",
       "    <tr>\n",
       "      <th>Bus</th>\n",
       "      <th></th>\n",
       "      <th></th>\n",
       "      <th></th>\n",
       "      <th></th>\n",
       "      <th></th>\n",
       "      <th></th>\n",
       "      <th></th>\n",
       "      <th></th>\n",
       "      <th></th>\n",
       "      <th></th>\n",
       "      <th></th>\n",
       "      <th></th>\n",
       "    </tr>\n",
       "  </thead>\n",
       "  <tbody>\n",
       "    <tr>\n",
       "      <th>north_de</th>\n",
       "      <td>380.0</td>\n",
       "      <td></td>\n",
       "      <td>9.598183</td>\n",
       "      <td>53.558527</td>\n",
       "      <td>AC</td>\n",
       "      <td></td>\n",
       "      <td>1.0</td>\n",
       "      <td>0.0</td>\n",
       "      <td>inf</td>\n",
       "      <td>PQ</td>\n",
       "      <td></td>\n",
       "      <td></td>\n",
       "    </tr>\n",
       "    <tr>\n",
       "      <th>east_de</th>\n",
       "      <td>380.0</td>\n",
       "      <td></td>\n",
       "      <td>13.607778</td>\n",
       "      <td>51.076934</td>\n",
       "      <td>AC</td>\n",
       "      <td></td>\n",
       "      <td>1.0</td>\n",
       "      <td>0.0</td>\n",
       "      <td>inf</td>\n",
       "      <td>PQ</td>\n",
       "      <td></td>\n",
       "      <td></td>\n",
       "    </tr>\n",
       "    <tr>\n",
       "      <th>west_de</th>\n",
       "      <td>380.0</td>\n",
       "      <td></td>\n",
       "      <td>6.802514</td>\n",
       "      <td>50.957803</td>\n",
       "      <td>AC</td>\n",
       "      <td></td>\n",
       "      <td>1.0</td>\n",
       "      <td>0.0</td>\n",
       "      <td>inf</td>\n",
       "      <td>PQ</td>\n",
       "      <td></td>\n",
       "      <td></td>\n",
       "    </tr>\n",
       "  </tbody>\n",
       "</table>\n",
       "</div>"
      ],
      "text/plain": [
       "          v_nom type          x          y carrier unit  v_mag_pu_set  \\\n",
       "Bus                                                                     \n",
       "north_de  380.0        9.598183  53.558527      AC                1.0   \n",
       "east_de   380.0       13.607778  51.076934      AC                1.0   \n",
       "west_de   380.0        6.802514  50.957803      AC                1.0   \n",
       "\n",
       "          v_mag_pu_min  v_mag_pu_max control generator sub_network  \n",
       "Bus                                                                 \n",
       "north_de           0.0           inf      PQ                        \n",
       "east_de            0.0           inf      PQ                        \n",
       "west_de            0.0           inf      PQ                        "
      ]
     },
     "execution_count": 380,
     "metadata": {},
     "output_type": "execute_result"
    }
   ],
   "source": [
    "network.buses"
   ]
  },
  {
   "cell_type": "markdown",
   "metadata": {},
   "source": [
    "#### 4)Add generators"
   ]
  },
  {
   "cell_type": "code",
   "execution_count": 381,
   "metadata": {},
   "outputs": [],
   "source": [
    "# Read excel file which contains Non renewable generators data\n",
    "generators=pd.read_excel('data_exercise2.xlsx',sheet_name='generators')"
   ]
  },
  {
   "cell_type": "code",
   "execution_count": 382,
   "metadata": {},
   "outputs": [
    {
     "data": {
      "text/html": [
       "<div>\n",
       "<style scoped>\n",
       "    .dataframe tbody tr th:only-of-type {\n",
       "        vertical-align: middle;\n",
       "    }\n",
       "\n",
       "    .dataframe tbody tr th {\n",
       "        vertical-align: top;\n",
       "    }\n",
       "\n",
       "    .dataframe thead th {\n",
       "        text-align: right;\n",
       "    }\n",
       "</style>\n",
       "<table border=\"1\" class=\"dataframe\">\n",
       "  <thead>\n",
       "    <tr style=\"text-align: right;\">\n",
       "      <th></th>\n",
       "      <th>generator</th>\n",
       "      <th>p_nom</th>\n",
       "      <th>p_nom_max</th>\n",
       "      <th>bus</th>\n",
       "      <th>p_nom_extendable</th>\n",
       "      <th>marginal_cost</th>\n",
       "      <th>lifetime</th>\n",
       "      <th>efficiency</th>\n",
       "      <th>start_up_cost</th>\n",
       "      <th>shut_down_cost</th>\n",
       "      <th>min_up_time</th>\n",
       "      <th>min_down_time</th>\n",
       "      <th>ramp_limit_up</th>\n",
       "      <th>ramp_limit_down</th>\n",
       "      <th>ramp_limit_start_up</th>\n",
       "      <th>ramp_limit_shut_down</th>\n",
       "    </tr>\n",
       "  </thead>\n",
       "  <tbody>\n",
       "    <tr>\n",
       "      <th>0</th>\n",
       "      <td>gen_no1</td>\n",
       "      <td>31</td>\n",
       "      <td>31</td>\n",
       "      <td>north_de</td>\n",
       "      <td>True</td>\n",
       "      <td>10</td>\n",
       "      <td>NaN</td>\n",
       "      <td>NaN</td>\n",
       "      <td>NaN</td>\n",
       "      <td>NaN</td>\n",
       "      <td>NaN</td>\n",
       "      <td>NaN</td>\n",
       "      <td>NaN</td>\n",
       "      <td>NaN</td>\n",
       "      <td>NaN</td>\n",
       "      <td>NaN</td>\n",
       "    </tr>\n",
       "    <tr>\n",
       "      <th>1</th>\n",
       "      <td>gen_ost1</td>\n",
       "      <td>19</td>\n",
       "      <td>19</td>\n",
       "      <td>east_de</td>\n",
       "      <td>True</td>\n",
       "      <td>20</td>\n",
       "      <td>NaN</td>\n",
       "      <td>NaN</td>\n",
       "      <td>NaN</td>\n",
       "      <td>NaN</td>\n",
       "      <td>NaN</td>\n",
       "      <td>NaN</td>\n",
       "      <td>NaN</td>\n",
       "      <td>NaN</td>\n",
       "      <td>NaN</td>\n",
       "      <td>NaN</td>\n",
       "    </tr>\n",
       "    <tr>\n",
       "      <th>2</th>\n",
       "      <td>gen_west1</td>\n",
       "      <td>10</td>\n",
       "      <td>30</td>\n",
       "      <td>west_de</td>\n",
       "      <td>True</td>\n",
       "      <td>50</td>\n",
       "      <td>NaN</td>\n",
       "      <td>NaN</td>\n",
       "      <td>NaN</td>\n",
       "      <td>NaN</td>\n",
       "      <td>NaN</td>\n",
       "      <td>NaN</td>\n",
       "      <td>NaN</td>\n",
       "      <td>NaN</td>\n",
       "      <td>NaN</td>\n",
       "      <td>NaN</td>\n",
       "    </tr>\n",
       "  </tbody>\n",
       "</table>\n",
       "</div>"
      ],
      "text/plain": [
       "   generator  p_nom  p_nom_max       bus  p_nom_extendable  marginal_cost  \\\n",
       "0    gen_no1     31         31  north_de              True             10   \n",
       "1   gen_ost1     19         19   east_de              True             20   \n",
       "2  gen_west1     10         30   west_de              True             50   \n",
       "\n",
       "   lifetime  efficiency  start_up_cost  shut_down_cost  min_up_time  \\\n",
       "0       NaN         NaN            NaN             NaN          NaN   \n",
       "1       NaN         NaN            NaN             NaN          NaN   \n",
       "2       NaN         NaN            NaN             NaN          NaN   \n",
       "\n",
       "   min_down_time  ramp_limit_up  ramp_limit_down  ramp_limit_start_up  \\\n",
       "0            NaN            NaN              NaN                  NaN   \n",
       "1            NaN            NaN              NaN                  NaN   \n",
       "2            NaN            NaN              NaN                  NaN   \n",
       "\n",
       "   ramp_limit_shut_down  \n",
       "0                   NaN  \n",
       "1                   NaN  \n",
       "2                   NaN  "
      ]
     },
     "execution_count": 382,
     "metadata": {},
     "output_type": "execute_result"
    }
   ],
   "source": [
    "generators"
   ]
  },
  {
   "cell_type": "code",
   "execution_count": 383,
   "metadata": {},
   "outputs": [
    {
     "name": "stderr",
     "output_type": "stream",
     "text": [
      "C:\\Users\\User\\AppData\\Local\\Temp\\ipykernel_11536\\1087367996.py:1: DeprecatedWarning:\n",
      "\n",
      "madd is deprecated as of 0.31 and will be removed in 1.0. Use `n.add` as a drop-in replacement instead.\n",
      "\n"
     ]
    },
    {
     "data": {
      "text/html": [
       "<div>\n",
       "<style scoped>\n",
       "    .dataframe tbody tr th:only-of-type {\n",
       "        vertical-align: middle;\n",
       "    }\n",
       "\n",
       "    .dataframe tbody tr th {\n",
       "        vertical-align: top;\n",
       "    }\n",
       "\n",
       "    .dataframe thead th {\n",
       "        text-align: right;\n",
       "    }\n",
       "</style>\n",
       "<table border=\"1\" class=\"dataframe\">\n",
       "  <thead>\n",
       "    <tr style=\"text-align: right;\">\n",
       "      <th></th>\n",
       "      <th>bus</th>\n",
       "      <th>control</th>\n",
       "      <th>type</th>\n",
       "      <th>p_nom</th>\n",
       "      <th>p_nom_mod</th>\n",
       "      <th>p_nom_extendable</th>\n",
       "      <th>p_nom_min</th>\n",
       "      <th>p_nom_max</th>\n",
       "      <th>p_min_pu</th>\n",
       "      <th>p_max_pu</th>\n",
       "      <th>...</th>\n",
       "      <th>min_up_time</th>\n",
       "      <th>min_down_time</th>\n",
       "      <th>up_time_before</th>\n",
       "      <th>down_time_before</th>\n",
       "      <th>ramp_limit_up</th>\n",
       "      <th>ramp_limit_down</th>\n",
       "      <th>ramp_limit_start_up</th>\n",
       "      <th>ramp_limit_shut_down</th>\n",
       "      <th>weight</th>\n",
       "      <th>p_nom_opt</th>\n",
       "    </tr>\n",
       "    <tr>\n",
       "      <th>Generator</th>\n",
       "      <th></th>\n",
       "      <th></th>\n",
       "      <th></th>\n",
       "      <th></th>\n",
       "      <th></th>\n",
       "      <th></th>\n",
       "      <th></th>\n",
       "      <th></th>\n",
       "      <th></th>\n",
       "      <th></th>\n",
       "      <th></th>\n",
       "      <th></th>\n",
       "      <th></th>\n",
       "      <th></th>\n",
       "      <th></th>\n",
       "      <th></th>\n",
       "      <th></th>\n",
       "      <th></th>\n",
       "      <th></th>\n",
       "      <th></th>\n",
       "      <th></th>\n",
       "    </tr>\n",
       "  </thead>\n",
       "  <tbody>\n",
       "    <tr>\n",
       "      <th>gen_no1</th>\n",
       "      <td>north_de</td>\n",
       "      <td>PQ</td>\n",
       "      <td></td>\n",
       "      <td>31.0</td>\n",
       "      <td>0.0</td>\n",
       "      <td>True</td>\n",
       "      <td>0.0</td>\n",
       "      <td>31.0</td>\n",
       "      <td>0.0</td>\n",
       "      <td>1.0</td>\n",
       "      <td>...</td>\n",
       "      <td>0</td>\n",
       "      <td>0</td>\n",
       "      <td>1</td>\n",
       "      <td>0</td>\n",
       "      <td>NaN</td>\n",
       "      <td>NaN</td>\n",
       "      <td>1.0</td>\n",
       "      <td>1.0</td>\n",
       "      <td>1.0</td>\n",
       "      <td>0.0</td>\n",
       "    </tr>\n",
       "    <tr>\n",
       "      <th>gen_ost1</th>\n",
       "      <td>east_de</td>\n",
       "      <td>PQ</td>\n",
       "      <td></td>\n",
       "      <td>19.0</td>\n",
       "      <td>0.0</td>\n",
       "      <td>True</td>\n",
       "      <td>0.0</td>\n",
       "      <td>19.0</td>\n",
       "      <td>0.0</td>\n",
       "      <td>1.0</td>\n",
       "      <td>...</td>\n",
       "      <td>0</td>\n",
       "      <td>0</td>\n",
       "      <td>1</td>\n",
       "      <td>0</td>\n",
       "      <td>NaN</td>\n",
       "      <td>NaN</td>\n",
       "      <td>1.0</td>\n",
       "      <td>1.0</td>\n",
       "      <td>1.0</td>\n",
       "      <td>0.0</td>\n",
       "    </tr>\n",
       "    <tr>\n",
       "      <th>gen_west1</th>\n",
       "      <td>west_de</td>\n",
       "      <td>PQ</td>\n",
       "      <td></td>\n",
       "      <td>10.0</td>\n",
       "      <td>0.0</td>\n",
       "      <td>True</td>\n",
       "      <td>0.0</td>\n",
       "      <td>30.0</td>\n",
       "      <td>0.0</td>\n",
       "      <td>1.0</td>\n",
       "      <td>...</td>\n",
       "      <td>0</td>\n",
       "      <td>0</td>\n",
       "      <td>1</td>\n",
       "      <td>0</td>\n",
       "      <td>NaN</td>\n",
       "      <td>NaN</td>\n",
       "      <td>1.0</td>\n",
       "      <td>1.0</td>\n",
       "      <td>1.0</td>\n",
       "      <td>0.0</td>\n",
       "    </tr>\n",
       "  </tbody>\n",
       "</table>\n",
       "<p>3 rows × 37 columns</p>\n",
       "</div>"
      ],
      "text/plain": [
       "                bus control type  p_nom  p_nom_mod  p_nom_extendable  \\\n",
       "Generator                                                              \n",
       "gen_no1    north_de      PQ        31.0        0.0              True   \n",
       "gen_ost1    east_de      PQ        19.0        0.0              True   \n",
       "gen_west1   west_de      PQ        10.0        0.0              True   \n",
       "\n",
       "           p_nom_min  p_nom_max  p_min_pu  p_max_pu  ...  min_up_time  \\\n",
       "Generator                                            ...                \n",
       "gen_no1          0.0       31.0       0.0       1.0  ...            0   \n",
       "gen_ost1         0.0       19.0       0.0       1.0  ...            0   \n",
       "gen_west1        0.0       30.0       0.0       1.0  ...            0   \n",
       "\n",
       "           min_down_time  up_time_before  down_time_before  ramp_limit_up  \\\n",
       "Generator                                                                   \n",
       "gen_no1                0               1                 0            NaN   \n",
       "gen_ost1               0               1                 0            NaN   \n",
       "gen_west1              0               1                 0            NaN   \n",
       "\n",
       "          ramp_limit_down  ramp_limit_start_up  ramp_limit_shut_down  weight  \\\n",
       "Generator                                                                      \n",
       "gen_no1               NaN                  1.0                   1.0     1.0   \n",
       "gen_ost1              NaN                  1.0                   1.0     1.0   \n",
       "gen_west1             NaN                  1.0                   1.0     1.0   \n",
       "\n",
       "           p_nom_opt  \n",
       "Generator             \n",
       "gen_no1          0.0  \n",
       "gen_ost1         0.0  \n",
       "gen_west1        0.0  \n",
       "\n",
       "[3 rows x 37 columns]"
      ]
     },
     "execution_count": 383,
     "metadata": {},
     "output_type": "execute_result"
    }
   ],
   "source": [
    "network.madd(\n",
    "    \"Generator\",\n",
    "    names= generators.generator,\n",
    "    bus=list(generators.bus),\n",
    "    carrier=list(generators.generator),\n",
    "    p_nom=list(generators.p_nom),\n",
    "    p_nom_max=list(generators.p_nom_max),  # MW\n",
    "    p_nom_extendable=list(generators.p_nom_extendable),\n",
    "    marginal_cost=list(generators.marginal_cost),\n",
    ")\n",
    "network.generators"
   ]
  },
  {
   "cell_type": "code",
   "execution_count": 384,
   "metadata": {},
   "outputs": [
    {
     "data": {
      "text/html": [
       "<div>\n",
       "<style scoped>\n",
       "    .dataframe tbody tr th:only-of-type {\n",
       "        vertical-align: middle;\n",
       "    }\n",
       "\n",
       "    .dataframe tbody tr th {\n",
       "        vertical-align: top;\n",
       "    }\n",
       "\n",
       "    .dataframe thead th {\n",
       "        text-align: right;\n",
       "    }\n",
       "</style>\n",
       "<table border=\"1\" class=\"dataframe\">\n",
       "  <thead>\n",
       "    <tr style=\"text-align: right;\">\n",
       "      <th></th>\n",
       "      <th>bus</th>\n",
       "      <th>control</th>\n",
       "      <th>type</th>\n",
       "      <th>p_nom</th>\n",
       "      <th>p_nom_mod</th>\n",
       "      <th>p_nom_extendable</th>\n",
       "      <th>p_nom_min</th>\n",
       "      <th>p_nom_max</th>\n",
       "      <th>p_min_pu</th>\n",
       "      <th>p_max_pu</th>\n",
       "      <th>...</th>\n",
       "      <th>min_up_time</th>\n",
       "      <th>min_down_time</th>\n",
       "      <th>up_time_before</th>\n",
       "      <th>down_time_before</th>\n",
       "      <th>ramp_limit_up</th>\n",
       "      <th>ramp_limit_down</th>\n",
       "      <th>ramp_limit_start_up</th>\n",
       "      <th>ramp_limit_shut_down</th>\n",
       "      <th>weight</th>\n",
       "      <th>p_nom_opt</th>\n",
       "    </tr>\n",
       "    <tr>\n",
       "      <th>Generator</th>\n",
       "      <th></th>\n",
       "      <th></th>\n",
       "      <th></th>\n",
       "      <th></th>\n",
       "      <th></th>\n",
       "      <th></th>\n",
       "      <th></th>\n",
       "      <th></th>\n",
       "      <th></th>\n",
       "      <th></th>\n",
       "      <th></th>\n",
       "      <th></th>\n",
       "      <th></th>\n",
       "      <th></th>\n",
       "      <th></th>\n",
       "      <th></th>\n",
       "      <th></th>\n",
       "      <th></th>\n",
       "      <th></th>\n",
       "      <th></th>\n",
       "      <th></th>\n",
       "    </tr>\n",
       "  </thead>\n",
       "  <tbody>\n",
       "    <tr>\n",
       "      <th>gen_no1</th>\n",
       "      <td>north_de</td>\n",
       "      <td>PQ</td>\n",
       "      <td></td>\n",
       "      <td>31.0</td>\n",
       "      <td>0.0</td>\n",
       "      <td>True</td>\n",
       "      <td>0.0</td>\n",
       "      <td>31.0</td>\n",
       "      <td>0.0</td>\n",
       "      <td>1.0</td>\n",
       "      <td>...</td>\n",
       "      <td>0</td>\n",
       "      <td>0</td>\n",
       "      <td>1</td>\n",
       "      <td>0</td>\n",
       "      <td>NaN</td>\n",
       "      <td>NaN</td>\n",
       "      <td>1.0</td>\n",
       "      <td>1.0</td>\n",
       "      <td>1.0</td>\n",
       "      <td>0.0</td>\n",
       "    </tr>\n",
       "    <tr>\n",
       "      <th>gen_ost1</th>\n",
       "      <td>east_de</td>\n",
       "      <td>PQ</td>\n",
       "      <td></td>\n",
       "      <td>19.0</td>\n",
       "      <td>0.0</td>\n",
       "      <td>True</td>\n",
       "      <td>0.0</td>\n",
       "      <td>19.0</td>\n",
       "      <td>0.0</td>\n",
       "      <td>1.0</td>\n",
       "      <td>...</td>\n",
       "      <td>0</td>\n",
       "      <td>0</td>\n",
       "      <td>1</td>\n",
       "      <td>0</td>\n",
       "      <td>NaN</td>\n",
       "      <td>NaN</td>\n",
       "      <td>1.0</td>\n",
       "      <td>1.0</td>\n",
       "      <td>1.0</td>\n",
       "      <td>0.0</td>\n",
       "    </tr>\n",
       "    <tr>\n",
       "      <th>gen_west1</th>\n",
       "      <td>west_de</td>\n",
       "      <td>PQ</td>\n",
       "      <td></td>\n",
       "      <td>10.0</td>\n",
       "      <td>0.0</td>\n",
       "      <td>True</td>\n",
       "      <td>0.0</td>\n",
       "      <td>30.0</td>\n",
       "      <td>0.0</td>\n",
       "      <td>1.0</td>\n",
       "      <td>...</td>\n",
       "      <td>0</td>\n",
       "      <td>0</td>\n",
       "      <td>1</td>\n",
       "      <td>0</td>\n",
       "      <td>NaN</td>\n",
       "      <td>NaN</td>\n",
       "      <td>1.0</td>\n",
       "      <td>1.0</td>\n",
       "      <td>1.0</td>\n",
       "      <td>0.0</td>\n",
       "    </tr>\n",
       "  </tbody>\n",
       "</table>\n",
       "<p>3 rows × 37 columns</p>\n",
       "</div>"
      ],
      "text/plain": [
       "                bus control type  p_nom  p_nom_mod  p_nom_extendable  \\\n",
       "Generator                                                              \n",
       "gen_no1    north_de      PQ        31.0        0.0              True   \n",
       "gen_ost1    east_de      PQ        19.0        0.0              True   \n",
       "gen_west1   west_de      PQ        10.0        0.0              True   \n",
       "\n",
       "           p_nom_min  p_nom_max  p_min_pu  p_max_pu  ...  min_up_time  \\\n",
       "Generator                                            ...                \n",
       "gen_no1          0.0       31.0       0.0       1.0  ...            0   \n",
       "gen_ost1         0.0       19.0       0.0       1.0  ...            0   \n",
       "gen_west1        0.0       30.0       0.0       1.0  ...            0   \n",
       "\n",
       "           min_down_time  up_time_before  down_time_before  ramp_limit_up  \\\n",
       "Generator                                                                   \n",
       "gen_no1                0               1                 0            NaN   \n",
       "gen_ost1               0               1                 0            NaN   \n",
       "gen_west1              0               1                 0            NaN   \n",
       "\n",
       "          ramp_limit_down  ramp_limit_start_up  ramp_limit_shut_down  weight  \\\n",
       "Generator                                                                      \n",
       "gen_no1               NaN                  1.0                   1.0     1.0   \n",
       "gen_ost1              NaN                  1.0                   1.0     1.0   \n",
       "gen_west1             NaN                  1.0                   1.0     1.0   \n",
       "\n",
       "           p_nom_opt  \n",
       "Generator             \n",
       "gen_no1          0.0  \n",
       "gen_ost1         0.0  \n",
       "gen_west1        0.0  \n",
       "\n",
       "[3 rows x 37 columns]"
      ]
     },
     "execution_count": 384,
     "metadata": {},
     "output_type": "execute_result"
    }
   ],
   "source": [
    "network.generators"
   ]
  },
  {
   "cell_type": "markdown",
   "metadata": {},
   "source": [
    "#### 5)Add load"
   ]
  },
  {
   "cell_type": "code",
   "execution_count": 385,
   "metadata": {},
   "outputs": [],
   "source": [
    "# Read excel file which contains Non renewable generators data\n",
    "load=pd.read_excel('data_exercise2.xlsx',sheet_name='load',header=0)"
   ]
  },
  {
   "cell_type": "code",
   "execution_count": 386,
   "metadata": {},
   "outputs": [
    {
     "data": {
      "text/html": [
       "<div>\n",
       "<style scoped>\n",
       "    .dataframe tbody tr th:only-of-type {\n",
       "        vertical-align: middle;\n",
       "    }\n",
       "\n",
       "    .dataframe tbody tr th {\n",
       "        vertical-align: top;\n",
       "    }\n",
       "\n",
       "    .dataframe thead th {\n",
       "        text-align: right;\n",
       "    }\n",
       "</style>\n",
       "<table border=\"1\" class=\"dataframe\">\n",
       "  <thead>\n",
       "    <tr style=\"text-align: right;\">\n",
       "      <th></th>\n",
       "      <th>bus</th>\n",
       "      <th>load</th>\n",
       "    </tr>\n",
       "  </thead>\n",
       "  <tbody>\n",
       "    <tr>\n",
       "      <th>0</th>\n",
       "      <td>North_de</td>\n",
       "      <td>10</td>\n",
       "    </tr>\n",
       "    <tr>\n",
       "      <th>1</th>\n",
       "      <td>east_de</td>\n",
       "      <td>10</td>\n",
       "    </tr>\n",
       "    <tr>\n",
       "      <th>2</th>\n",
       "      <td>west_de</td>\n",
       "      <td>40</td>\n",
       "    </tr>\n",
       "  </tbody>\n",
       "</table>\n",
       "</div>"
      ],
      "text/plain": [
       "        bus  load\n",
       "0  North_de    10\n",
       "1   east_de    10\n",
       "2   west_de    40"
      ]
     },
     "execution_count": 386,
     "metadata": {},
     "output_type": "execute_result"
    }
   ],
   "source": [
    "load"
   ]
  },
  {
   "cell_type": "code",
   "execution_count": 387,
   "metadata": {},
   "outputs": [
    {
     "name": "stderr",
     "output_type": "stream",
     "text": [
      "WARNING:pypsa.io:The following Load have buses which are not defined:\n",
      "Index(['North_de'], dtype='object')\n"
     ]
    }
   ],
   "source": [
    "for index, row in load.iterrows():\n",
    "    network.add(\n",
    "        \"Load\",\n",
    "        name=row['bus'],\n",
    "        bus=row['bus'],\n",
    "        p_set=row['load'],\n",
    "    )"
   ]
  },
  {
   "cell_type": "code",
   "execution_count": 388,
   "metadata": {},
   "outputs": [
    {
     "data": {
      "text/html": [
       "<div>\n",
       "<style scoped>\n",
       "    .dataframe tbody tr th:only-of-type {\n",
       "        vertical-align: middle;\n",
       "    }\n",
       "\n",
       "    .dataframe tbody tr th {\n",
       "        vertical-align: top;\n",
       "    }\n",
       "\n",
       "    .dataframe thead th {\n",
       "        text-align: right;\n",
       "    }\n",
       "</style>\n",
       "<table border=\"1\" class=\"dataframe\">\n",
       "  <thead>\n",
       "    <tr style=\"text-align: right;\">\n",
       "      <th></th>\n",
       "      <th>bus</th>\n",
       "      <th>carrier</th>\n",
       "      <th>type</th>\n",
       "      <th>p_set</th>\n",
       "      <th>q_set</th>\n",
       "      <th>sign</th>\n",
       "      <th>active</th>\n",
       "    </tr>\n",
       "    <tr>\n",
       "      <th>Load</th>\n",
       "      <th></th>\n",
       "      <th></th>\n",
       "      <th></th>\n",
       "      <th></th>\n",
       "      <th></th>\n",
       "      <th></th>\n",
       "      <th></th>\n",
       "    </tr>\n",
       "  </thead>\n",
       "  <tbody>\n",
       "    <tr>\n",
       "      <th>North_de</th>\n",
       "      <td>North_de</td>\n",
       "      <td></td>\n",
       "      <td></td>\n",
       "      <td>10.0</td>\n",
       "      <td>0.0</td>\n",
       "      <td>-1.0</td>\n",
       "      <td>True</td>\n",
       "    </tr>\n",
       "    <tr>\n",
       "      <th>east_de</th>\n",
       "      <td>east_de</td>\n",
       "      <td></td>\n",
       "      <td></td>\n",
       "      <td>10.0</td>\n",
       "      <td>0.0</td>\n",
       "      <td>-1.0</td>\n",
       "      <td>True</td>\n",
       "    </tr>\n",
       "    <tr>\n",
       "      <th>west_de</th>\n",
       "      <td>west_de</td>\n",
       "      <td></td>\n",
       "      <td></td>\n",
       "      <td>40.0</td>\n",
       "      <td>0.0</td>\n",
       "      <td>-1.0</td>\n",
       "      <td>True</td>\n",
       "    </tr>\n",
       "  </tbody>\n",
       "</table>\n",
       "</div>"
      ],
      "text/plain": [
       "               bus carrier type  p_set  q_set  sign  active\n",
       "Load                                                       \n",
       "North_de  North_de                10.0    0.0  -1.0    True\n",
       "east_de    east_de                10.0    0.0  -1.0    True\n",
       "west_de    west_de                40.0    0.0  -1.0    True"
      ]
     },
     "execution_count": 388,
     "metadata": {},
     "output_type": "execute_result"
    }
   ],
   "source": [
    "network.loads"
   ]
  },
  {
   "cell_type": "markdown",
   "metadata": {},
   "source": [
    "#### 6)Add Transmission lines"
   ]
  },
  {
   "cell_type": "code",
   "execution_count": 389,
   "metadata": {},
   "outputs": [],
   "source": [
    "# Read excel file which contains Non renewable generators data\n",
    "lines=pd.read_excel('data_exercise2.xlsx',sheet_name='lines',header=0)"
   ]
  },
  {
   "cell_type": "code",
   "execution_count": 390,
   "metadata": {},
   "outputs": [
    {
     "data": {
      "text/html": [
       "<div>\n",
       "<style scoped>\n",
       "    .dataframe tbody tr th:only-of-type {\n",
       "        vertical-align: middle;\n",
       "    }\n",
       "\n",
       "    .dataframe tbody tr th {\n",
       "        vertical-align: top;\n",
       "    }\n",
       "\n",
       "    .dataframe thead th {\n",
       "        text-align: right;\n",
       "    }\n",
       "</style>\n",
       "<table border=\"1\" class=\"dataframe\">\n",
       "  <thead>\n",
       "    <tr style=\"text-align: right;\">\n",
       "      <th></th>\n",
       "      <th>line</th>\n",
       "      <th>bus0</th>\n",
       "      <th>bus1</th>\n",
       "      <th>s_nom</th>\n",
       "      <th>r</th>\n",
       "      <th>x</th>\n",
       "      <th>length</th>\n",
       "    </tr>\n",
       "  </thead>\n",
       "  <tbody>\n",
       "    <tr>\n",
       "      <th>0</th>\n",
       "      <td>1</td>\n",
       "      <td>north_de</td>\n",
       "      <td>east_de</td>\n",
       "      <td>14</td>\n",
       "      <td>0.0001</td>\n",
       "      <td>0.0001</td>\n",
       "      <td>400</td>\n",
       "    </tr>\n",
       "    <tr>\n",
       "      <th>1</th>\n",
       "      <td>2</td>\n",
       "      <td>east_de</td>\n",
       "      <td>west_de</td>\n",
       "      <td>14</td>\n",
       "      <td>0.0001</td>\n",
       "      <td>0.0001</td>\n",
       "      <td>400</td>\n",
       "    </tr>\n",
       "    <tr>\n",
       "      <th>2</th>\n",
       "      <td>3</td>\n",
       "      <td>west_de</td>\n",
       "      <td>north_de</td>\n",
       "      <td>14</td>\n",
       "      <td>0.0001</td>\n",
       "      <td>0.0001</td>\n",
       "      <td>400</td>\n",
       "    </tr>\n",
       "  </tbody>\n",
       "</table>\n",
       "</div>"
      ],
      "text/plain": [
       "   line      bus0      bus1  s_nom       r       x  length\n",
       "0     1  north_de   east_de     14  0.0001  0.0001     400\n",
       "1     2   east_de   west_de     14  0.0001  0.0001     400\n",
       "2     3   west_de  north_de     14  0.0001  0.0001     400"
      ]
     },
     "execution_count": 390,
     "metadata": {},
     "output_type": "execute_result"
    }
   ],
   "source": [
    "lines.head()"
   ]
  },
  {
   "cell_type": "code",
   "execution_count": 391,
   "metadata": {},
   "outputs": [],
   "source": [
    "# Add line connection between the buses\n",
    "for index, row in lines.iterrows():\n",
    "    network.add(\n",
    "        \"Line\",\n",
    "        \"{}_{}\".format(row['bus0'],row['bus1']),\n",
    "        bus0=row['bus0'],\n",
    "        bus1=row['bus1'],\n",
    "        s_nom=row['s_nom'],\n",
    "        x=1,\n",
    "    )"
   ]
  },
  {
   "cell_type": "code",
   "execution_count": 392,
   "metadata": {},
   "outputs": [
    {
     "data": {
      "text/html": [
       "<div>\n",
       "<style scoped>\n",
       "    .dataframe tbody tr th:only-of-type {\n",
       "        vertical-align: middle;\n",
       "    }\n",
       "\n",
       "    .dataframe tbody tr th {\n",
       "        vertical-align: top;\n",
       "    }\n",
       "\n",
       "    .dataframe thead th {\n",
       "        text-align: right;\n",
       "    }\n",
       "</style>\n",
       "<table border=\"1\" class=\"dataframe\">\n",
       "  <thead>\n",
       "    <tr style=\"text-align: right;\">\n",
       "      <th></th>\n",
       "      <th>bus0</th>\n",
       "      <th>bus1</th>\n",
       "      <th>type</th>\n",
       "      <th>x</th>\n",
       "      <th>r</th>\n",
       "      <th>g</th>\n",
       "      <th>b</th>\n",
       "      <th>s_nom</th>\n",
       "      <th>s_nom_mod</th>\n",
       "      <th>s_nom_extendable</th>\n",
       "      <th>...</th>\n",
       "      <th>v_ang_min</th>\n",
       "      <th>v_ang_max</th>\n",
       "      <th>sub_network</th>\n",
       "      <th>x_pu</th>\n",
       "      <th>r_pu</th>\n",
       "      <th>g_pu</th>\n",
       "      <th>b_pu</th>\n",
       "      <th>x_pu_eff</th>\n",
       "      <th>r_pu_eff</th>\n",
       "      <th>s_nom_opt</th>\n",
       "    </tr>\n",
       "    <tr>\n",
       "      <th>Line</th>\n",
       "      <th></th>\n",
       "      <th></th>\n",
       "      <th></th>\n",
       "      <th></th>\n",
       "      <th></th>\n",
       "      <th></th>\n",
       "      <th></th>\n",
       "      <th></th>\n",
       "      <th></th>\n",
       "      <th></th>\n",
       "      <th></th>\n",
       "      <th></th>\n",
       "      <th></th>\n",
       "      <th></th>\n",
       "      <th></th>\n",
       "      <th></th>\n",
       "      <th></th>\n",
       "      <th></th>\n",
       "      <th></th>\n",
       "      <th></th>\n",
       "      <th></th>\n",
       "    </tr>\n",
       "  </thead>\n",
       "  <tbody>\n",
       "    <tr>\n",
       "      <th>north_de_east_de</th>\n",
       "      <td>north_de</td>\n",
       "      <td>east_de</td>\n",
       "      <td></td>\n",
       "      <td>1.0</td>\n",
       "      <td>0.0</td>\n",
       "      <td>0.0</td>\n",
       "      <td>0.0</td>\n",
       "      <td>14.0</td>\n",
       "      <td>0.0</td>\n",
       "      <td>False</td>\n",
       "      <td>...</td>\n",
       "      <td>-inf</td>\n",
       "      <td>inf</td>\n",
       "      <td></td>\n",
       "      <td>0.0</td>\n",
       "      <td>0.0</td>\n",
       "      <td>0.0</td>\n",
       "      <td>0.0</td>\n",
       "      <td>0.0</td>\n",
       "      <td>0.0</td>\n",
       "      <td>0.0</td>\n",
       "    </tr>\n",
       "    <tr>\n",
       "      <th>east_de_west_de</th>\n",
       "      <td>east_de</td>\n",
       "      <td>west_de</td>\n",
       "      <td></td>\n",
       "      <td>1.0</td>\n",
       "      <td>0.0</td>\n",
       "      <td>0.0</td>\n",
       "      <td>0.0</td>\n",
       "      <td>14.0</td>\n",
       "      <td>0.0</td>\n",
       "      <td>False</td>\n",
       "      <td>...</td>\n",
       "      <td>-inf</td>\n",
       "      <td>inf</td>\n",
       "      <td></td>\n",
       "      <td>0.0</td>\n",
       "      <td>0.0</td>\n",
       "      <td>0.0</td>\n",
       "      <td>0.0</td>\n",
       "      <td>0.0</td>\n",
       "      <td>0.0</td>\n",
       "      <td>0.0</td>\n",
       "    </tr>\n",
       "    <tr>\n",
       "      <th>west_de_north_de</th>\n",
       "      <td>west_de</td>\n",
       "      <td>north_de</td>\n",
       "      <td></td>\n",
       "      <td>1.0</td>\n",
       "      <td>0.0</td>\n",
       "      <td>0.0</td>\n",
       "      <td>0.0</td>\n",
       "      <td>14.0</td>\n",
       "      <td>0.0</td>\n",
       "      <td>False</td>\n",
       "      <td>...</td>\n",
       "      <td>-inf</td>\n",
       "      <td>inf</td>\n",
       "      <td></td>\n",
       "      <td>0.0</td>\n",
       "      <td>0.0</td>\n",
       "      <td>0.0</td>\n",
       "      <td>0.0</td>\n",
       "      <td>0.0</td>\n",
       "      <td>0.0</td>\n",
       "      <td>0.0</td>\n",
       "    </tr>\n",
       "  </tbody>\n",
       "</table>\n",
       "<p>3 rows × 31 columns</p>\n",
       "</div>"
      ],
      "text/plain": [
       "                      bus0      bus1 type    x    r    g    b  s_nom  \\\n",
       "Line                                                                   \n",
       "north_de_east_de  north_de   east_de       1.0  0.0  0.0  0.0   14.0   \n",
       "east_de_west_de    east_de   west_de       1.0  0.0  0.0  0.0   14.0   \n",
       "west_de_north_de   west_de  north_de       1.0  0.0  0.0  0.0   14.0   \n",
       "\n",
       "                  s_nom_mod  s_nom_extendable  ...  v_ang_min  v_ang_max  \\\n",
       "Line                                           ...                         \n",
       "north_de_east_de        0.0             False  ...       -inf        inf   \n",
       "east_de_west_de         0.0             False  ...       -inf        inf   \n",
       "west_de_north_de        0.0             False  ...       -inf        inf   \n",
       "\n",
       "                  sub_network  x_pu  r_pu  g_pu  b_pu  x_pu_eff r_pu_eff  \\\n",
       "Line                                                                       \n",
       "north_de_east_de                0.0   0.0   0.0   0.0       0.0      0.0   \n",
       "east_de_west_de                 0.0   0.0   0.0   0.0       0.0      0.0   \n",
       "west_de_north_de                0.0   0.0   0.0   0.0       0.0      0.0   \n",
       "\n",
       "                  s_nom_opt  \n",
       "Line                         \n",
       "north_de_east_de        0.0  \n",
       "east_de_west_de         0.0  \n",
       "west_de_north_de        0.0  \n",
       "\n",
       "[3 rows x 31 columns]"
      ]
     },
     "execution_count": 392,
     "metadata": {},
     "output_type": "execute_result"
    }
   ],
   "source": [
    "network.lines"
   ]
  },
  {
   "cell_type": "code",
   "execution_count": 393,
   "metadata": {},
   "outputs": [
    {
     "data": {
      "text/plain": [
       "PyPSA Network\n",
       "Components:\n",
       " - Bus: 3\n",
       " - Generator: 3\n",
       " - Line: 3\n",
       " - Load: 3\n",
       "Snapshots: 1"
      ]
     },
     "execution_count": 393,
     "metadata": {},
     "output_type": "execute_result"
    }
   ],
   "source": [
    "network"
   ]
  },
  {
   "cell_type": "markdown",
   "metadata": {},
   "source": [
    "#### 7)Solve the network"
   ]
  },
  {
   "cell_type": "code",
   "execution_count": 394,
   "metadata": {},
   "outputs": [
    {
     "name": "stderr",
     "output_type": "stream",
     "text": [
      "WARNING:pypsa.consistency:The following loads have buses which are not defined:\n",
      "Index(['North_de'], dtype='object', name='Load')\n",
      "WARNING:pypsa.consistency:The following buses have carriers which are not defined:\n",
      "Index(['north_de', 'east_de', 'west_de'], dtype='object', name='Bus')\n",
      "WARNING:pypsa.consistency:The following generators have carriers which are not defined:\n",
      "Index(['gen_no1', 'gen_ost1', 'gen_west1'], dtype='object', name='Generator')\n",
      "WARNING:pypsa.consistency:The following lines have carriers which are not defined:\n",
      "Index(['north_de_east_de', 'east_de_west_de', 'west_de_north_de'], dtype='object', name='Line')\n",
      "WARNING:pypsa.consistency:The following lines have zero r, which could break the linear load flow:\n",
      "Index(['north_de_east_de', 'east_de_west_de', 'west_de_north_de'], dtype='object', name='Line')\n",
      "WARNING:pypsa.consistency:The following loads have buses which are not defined:\n",
      "Index(['North_de'], dtype='object', name='Load')\n",
      "WARNING:pypsa.consistency:The following buses have carriers which are not defined:\n",
      "Index(['north_de', 'east_de', 'west_de'], dtype='object', name='Bus')\n",
      "WARNING:pypsa.consistency:The following generators have carriers which are not defined:\n",
      "Index(['gen_no1', 'gen_ost1', 'gen_west1'], dtype='object', name='Generator')\n",
      "WARNING:pypsa.consistency:The following lines have carriers which are not defined:\n",
      "Index(['north_de_east_de', 'east_de_west_de', 'west_de_north_de'], dtype='object', name='Line')\n",
      "WARNING:pypsa.consistency:The following lines have zero r, which could break the linear load flow:\n",
      "Index(['north_de_east_de', 'east_de_west_de', 'west_de_north_de'], dtype='object', name='Line')\n",
      "c:\\Users\\User\\anaconda3\\Lib\\site-packages\\linopy\\common.py:147: UserWarning:\n",
      "\n",
      "coords for dimension(s) ['Generator'] is not aligned with the pandas object. Previously, the indexes of the pandas were ignored and overwritten in these cases. Now, the pandas object's coordinates are taken considered for alignment.\n",
      "\n",
      "INFO:linopy.model: Solve problem using Highs solver\n",
      "INFO:linopy.io: Writing time: 0.08s\n",
      "INFO:linopy.solvers:Log file at C:\\Users\\User\\AppData\\Local\\Temp\\highs.log\n",
      "INFO:linopy.constants: Optimization successful: \n",
      "Status: ok\n",
      "Termination condition: optimal\n",
      "Solution: 9 primals, 25 duals\n",
      "Objective: 1.27e+03\n",
      "Solver model: available\n",
      "Solver message: optimal\n",
      "\n",
      "INFO:pypsa.optimization.optimize:The shadow-prices of the constraints Generator-ext-p-lower, Generator-ext-p-upper, Line-fix-s-lower, Line-fix-s-upper, Kirchhoff-Voltage-Law were not assigned to the network.\n"
     ]
    },
    {
     "data": {
      "text/plain": [
       "('ok', 'optimal')"
      ]
     },
     "execution_count": 394,
     "metadata": {},
     "output_type": "execute_result"
    }
   ],
   "source": [
    "network.optimize(solver_name=\"highs\")\n"
   ]
  },
  {
   "cell_type": "code",
   "execution_count": 395,
   "metadata": {},
   "outputs": [
    {
     "data": {
      "text/html": [
       "<div>\n",
       "<style scoped>\n",
       "    .dataframe tbody tr th:only-of-type {\n",
       "        vertical-align: middle;\n",
       "    }\n",
       "\n",
       "    .dataframe tbody tr th {\n",
       "        vertical-align: top;\n",
       "    }\n",
       "\n",
       "    .dataframe thead th {\n",
       "        text-align: right;\n",
       "    }\n",
       "</style>\n",
       "<table border=\"1\" class=\"dataframe\">\n",
       "  <thead>\n",
       "    <tr style=\"text-align: right;\">\n",
       "      <th>Generator</th>\n",
       "      <th>gen_no1</th>\n",
       "      <th>gen_ost1</th>\n",
       "      <th>gen_west1</th>\n",
       "    </tr>\n",
       "    <tr>\n",
       "      <th>snapshot</th>\n",
       "      <th></th>\n",
       "      <th></th>\n",
       "      <th></th>\n",
       "    </tr>\n",
       "  </thead>\n",
       "  <tbody>\n",
       "    <tr>\n",
       "      <th>0</th>\n",
       "      <td>16.5</td>\n",
       "      <td>19.0</td>\n",
       "      <td>14.5</td>\n",
       "    </tr>\n",
       "  </tbody>\n",
       "</table>\n",
       "</div>"
      ],
      "text/plain": [
       "Generator  gen_no1  gen_ost1  gen_west1\n",
       "snapshot                               \n",
       "0             16.5      19.0       14.5"
      ]
     },
     "execution_count": 395,
     "metadata": {},
     "output_type": "execute_result"
    }
   ],
   "source": [
    "network.generators_t.p"
   ]
  },
  {
   "cell_type": "code",
   "execution_count": 396,
   "metadata": {},
   "outputs": [
    {
     "data": {
      "text/html": [
       "<div>\n",
       "<style scoped>\n",
       "    .dataframe tbody tr th:only-of-type {\n",
       "        vertical-align: middle;\n",
       "    }\n",
       "\n",
       "    .dataframe tbody tr th {\n",
       "        vertical-align: top;\n",
       "    }\n",
       "\n",
       "    .dataframe thead th {\n",
       "        text-align: right;\n",
       "    }\n",
       "</style>\n",
       "<table border=\"1\" class=\"dataframe\">\n",
       "  <thead>\n",
       "    <tr style=\"text-align: right;\">\n",
       "      <th>Line</th>\n",
       "      <th>north_de_east_de</th>\n",
       "      <th>east_de_west_de</th>\n",
       "      <th>west_de_north_de</th>\n",
       "    </tr>\n",
       "    <tr>\n",
       "      <th>snapshot</th>\n",
       "      <th></th>\n",
       "      <th></th>\n",
       "      <th></th>\n",
       "    </tr>\n",
       "  </thead>\n",
       "  <tbody>\n",
       "    <tr>\n",
       "      <th>0</th>\n",
       "      <td>2.5</td>\n",
       "      <td>11.5</td>\n",
       "      <td>-14.0</td>\n",
       "    </tr>\n",
       "  </tbody>\n",
       "</table>\n",
       "</div>"
      ],
      "text/plain": [
       "Line      north_de_east_de  east_de_west_de  west_de_north_de\n",
       "snapshot                                                     \n",
       "0                      2.5             11.5             -14.0"
      ]
     },
     "execution_count": 396,
     "metadata": {},
     "output_type": "execute_result"
    }
   ],
   "source": [
    "network.lines_t.p0"
   ]
  },
  {
   "cell_type": "code",
   "execution_count": 397,
   "metadata": {},
   "outputs": [
    {
     "data": {
      "text/html": [
       "<div>\n",
       "<style scoped>\n",
       "    .dataframe tbody tr th:only-of-type {\n",
       "        vertical-align: middle;\n",
       "    }\n",
       "\n",
       "    .dataframe tbody tr th {\n",
       "        vertical-align: top;\n",
       "    }\n",
       "\n",
       "    .dataframe thead th {\n",
       "        text-align: right;\n",
       "    }\n",
       "</style>\n",
       "<table border=\"1\" class=\"dataframe\">\n",
       "  <thead>\n",
       "    <tr style=\"text-align: right;\">\n",
       "      <th>Generator</th>\n",
       "      <th>gen_no1</th>\n",
       "      <th>gen_ost1</th>\n",
       "      <th>gen_west1</th>\n",
       "    </tr>\n",
       "    <tr>\n",
       "      <th>snapshot</th>\n",
       "      <th></th>\n",
       "      <th></th>\n",
       "      <th></th>\n",
       "    </tr>\n",
       "  </thead>\n",
       "  <tbody>\n",
       "    <tr>\n",
       "      <th>0</th>\n",
       "      <td>16.5</td>\n",
       "      <td>19.0</td>\n",
       "      <td>14.5</td>\n",
       "    </tr>\n",
       "  </tbody>\n",
       "</table>\n",
       "</div>"
      ],
      "text/plain": [
       "Generator  gen_no1  gen_ost1  gen_west1\n",
       "snapshot                               \n",
       "0             16.5      19.0       14.5"
      ]
     },
     "execution_count": 397,
     "metadata": {},
     "output_type": "execute_result"
    }
   ],
   "source": [
    "network.generators_t.p"
   ]
  },
  {
   "cell_type": "code",
   "execution_count": 398,
   "metadata": {},
   "outputs": [
    {
     "data": {
      "text/plain": [
       "50.0"
      ]
     },
     "execution_count": 398,
     "metadata": {},
     "output_type": "execute_result"
    }
   ],
   "source": [
    "clearing_price_redisp = network.buses_t.marginal_price.iloc[0].max()\n",
    "clearing_price_redisp"
   ]
  },
  {
   "cell_type": "code",
   "execution_count": 399,
   "metadata": {},
   "outputs": [
    {
     "data": {
      "text/plain": [
       "Generator\n",
       "gen_no1      31.0\n",
       "gen_ost1     19.0\n",
       "gen_west1    30.0\n",
       "Name: p_nom_opt, dtype: float64"
      ]
     },
     "execution_count": 399,
     "metadata": {},
     "output_type": "execute_result"
    }
   ],
   "source": [
    "network.generators.p_nom_opt"
   ]
  },
  {
   "cell_type": "code",
   "execution_count": 400,
   "metadata": {},
   "outputs": [
    {
     "data": {
      "text/plain": [
       "<Axes: xlabel='Generator', ylabel='MW'>"
      ]
     },
     "execution_count": 400,
     "metadata": {},
     "output_type": "execute_result"
    },
    {
     "data": {
      "image/png": "[encoded data removed]",
      "text/plain": [
       "<Figure size 800x300 with 1 Axes>"
      ]
     },
     "metadata": {},
     "output_type": "display_data"
    }
   ],
   "source": [
    "network.generators.p_nom_opt.plot.bar(ylabel=\"MW\", figsize=(8, 3))"
   ]
  },
  {
   "cell_type": "code",
   "execution_count": 401,
   "metadata": {},
   "outputs": [
    {
     "data": {
      "text/html": [
       "<div>\n",
       "<style scoped>\n",
       "    .dataframe tbody tr th:only-of-type {\n",
       "        vertical-align: middle;\n",
       "    }\n",
       "\n",
       "    .dataframe tbody tr th {\n",
       "        vertical-align: top;\n",
       "    }\n",
       "\n",
       "    .dataframe thead th {\n",
       "        text-align: right;\n",
       "    }\n",
       "</style>\n",
       "<table border=\"1\" class=\"dataframe\">\n",
       "  <thead>\n",
       "    <tr style=\"text-align: right;\">\n",
       "      <th>Line</th>\n",
       "      <th>north_de_east_de</th>\n",
       "      <th>east_de_west_de</th>\n",
       "      <th>west_de_north_de</th>\n",
       "    </tr>\n",
       "    <tr>\n",
       "      <th>snapshot</th>\n",
       "      <th></th>\n",
       "      <th></th>\n",
       "      <th></th>\n",
       "    </tr>\n",
       "  </thead>\n",
       "  <tbody>\n",
       "    <tr>\n",
       "      <th>0</th>\n",
       "      <td>2.5</td>\n",
       "      <td>11.5</td>\n",
       "      <td>-14.0</td>\n",
       "    </tr>\n",
       "  </tbody>\n",
       "</table>\n",
       "</div>"
      ],
      "text/plain": [
       "Line      north_de_east_de  east_de_west_de  west_de_north_de\n",
       "snapshot                                                     \n",
       "0                      2.5             11.5             -14.0"
      ]
     },
     "execution_count": 401,
     "metadata": {},
     "output_type": "execute_result"
    }
   ],
   "source": [
    "network.lines_t.p0"
   ]
  },
  {
   "cell_type": "code",
   "execution_count": 402,
   "metadata": {},
   "outputs": [
    {
     "data": {
      "text/plain": [
       "bus       carrier  \n",
       "east_de   gen_ost1     19.0\n",
       "north_de  gen_no1      16.5\n",
       "west_de   gen_west1    14.5\n",
       "Name: g, dtype: float64"
      ]
     },
     "execution_count": 402,
     "metadata": {},
     "output_type": "execute_result"
    }
   ],
   "source": [
    "gen = network.generators.assign(g=network.generators_t.p.mean()).groupby([\"bus\", \"carrier\"]).g.sum()\n",
    "gen"
   ]
  },
  {
   "cell_type": "code",
   "execution_count": 403,
   "metadata": {},
   "outputs": [
    {
     "data": {
      "text/plain": [
       "component  name            \n",
       "Line       north_de_east_de    10\n",
       "           east_de_west_de     10\n",
       "           west_de_north_de    10\n",
       "dtype: int64"
      ]
     },
     "execution_count": 403,
     "metadata": {},
     "output_type": "execute_result"
    }
   ],
   "source": [
    "flow = pd.Series(10, index=network.branches().index)\n",
    "flow"
   ]
  },
  {
   "cell_type": "code",
   "execution_count": 404,
   "metadata": {},
   "outputs": [
    {
     "name": "stderr",
     "output_type": "stream",
     "text": [
      "c:\\Users\\User\\anaconda3\\Lib\\site-packages\\executing\\executing.py:713: DeprecationWarning:\n",
      "\n",
      "ast.Str is deprecated and will be removed in Python 3.14; use ast.Constant instead\n",
      "\n",
      "c:\\Users\\User\\anaconda3\\Lib\\ast.py:587: DeprecationWarning:\n",
      "\n",
      "Attribute s is deprecated and will be removed in Python 3.14; use value instead\n",
      "\n",
      "c:\\Users\\User\\anaconda3\\Lib\\site-packages\\executing\\executing.py:713: DeprecationWarning:\n",
      "\n",
      "ast.Str is deprecated and will be removed in Python 3.14; use ast.Constant instead\n",
      "\n",
      "c:\\Users\\User\\anaconda3\\Lib\\ast.py:587: DeprecationWarning:\n",
      "\n",
      "Attribute s is deprecated and will be removed in Python 3.14; use value instead\n",
      "\n"
     ]
    },
    {
     "ename": "NameError",
     "evalue": "name 'ccrs' is not defined",
     "output_type": "error",
     "traceback": [
      "\u001b[1;31m---------------------------------------------------------------------------\u001b[0m",
      "\u001b[1;31mNameError\u001b[0m                                 Traceback (most recent call last)",
      "Cell \u001b[1;32mIn[404], line 9\u001b[0m\n\u001b[0;32m      1\u001b[0m plot_graph\u001b[38;5;241m=\u001b[39mnetwork\u001b[38;5;241m.\u001b[39mplot(\n\u001b[0;32m      2\u001b[0m     bus_sizes\u001b[38;5;241m=\u001b[39mgen\u001b[38;5;241m/\u001b[39m\u001b[38;5;241m10\u001b[39m,\n\u001b[0;32m      3\u001b[0m     bus_colors\u001b[38;5;241m=\u001b[39m{\u001b[38;5;124m\"\u001b[39m\u001b[38;5;124mgen_ost1\u001b[39m\u001b[38;5;124m\"\u001b[39m:\u001b[38;5;124m\"\u001b[39m\u001b[38;5;124mmidnightblue\u001b[39m\u001b[38;5;124m\"\u001b[39m,\u001b[38;5;124m\"\u001b[39m\u001b[38;5;124mgen_ost2\u001b[39m\u001b[38;5;124m\"\u001b[39m: \u001b[38;5;124m\"\u001b[39m\u001b[38;5;124mblack\u001b[39m\u001b[38;5;124m\"\u001b[39m,\u001b[38;5;124m\"\u001b[39m\u001b[38;5;124mgen_ost3\u001b[39m\u001b[38;5;124m\"\u001b[39m: \u001b[38;5;124m\"\u001b[39m\u001b[38;5;124myellow\u001b[39m\u001b[38;5;124m\"\u001b[39m, \u001b[38;5;124m\"\u001b[39m\u001b[38;5;124mgen_no1\u001b[39m\u001b[38;5;124m\"\u001b[39m: \u001b[38;5;124m\"\u001b[39m\u001b[38;5;124mgray\u001b[39m\u001b[38;5;124m\"\u001b[39m,\u001b[38;5;124m\"\u001b[39m\u001b[38;5;124mgen_no2\u001b[39m\u001b[38;5;124m\"\u001b[39m:\u001b[38;5;124m\"\u001b[39m\u001b[38;5;124mgray\u001b[39m\u001b[38;5;124m\"\u001b[39m,\u001b[38;5;124m\"\u001b[39m\u001b[38;5;124mgen_no3\u001b[39m\u001b[38;5;124m\"\u001b[39m:\u001b[38;5;124m\"\u001b[39m\u001b[38;5;124mmidnightblue\u001b[39m\u001b[38;5;124m\"\u001b[39m,\u001b[38;5;124m\"\u001b[39m\u001b[38;5;124mgen_west1\u001b[39m\u001b[38;5;124m\"\u001b[39m:\u001b[38;5;124m\"\u001b[39m\u001b[38;5;124mcyan\u001b[39m\u001b[38;5;124m\"\u001b[39m,\u001b[38;5;124m\"\u001b[39m\u001b[38;5;124mgen_west2\u001b[39m\u001b[38;5;124m\"\u001b[39m:\u001b[38;5;124m\"\u001b[39m\u001b[38;5;124myellow\u001b[39m\u001b[38;5;124m\"\u001b[39m,\u001b[38;5;124m\"\u001b[39m\u001b[38;5;124mgen_west3\u001b[39m\u001b[38;5;124m\"\u001b[39m:\u001b[38;5;124m\"\u001b[39m\u001b[38;5;124mgray\u001b[39m\u001b[38;5;124m\"\u001b[39m},\n\u001b[0;32m      4\u001b[0m     margin\u001b[38;5;241m=\u001b[39m\u001b[38;5;241m1\u001b[39m,\n\u001b[0;32m      5\u001b[0m     line_widths\u001b[38;5;241m=\u001b[39m\u001b[38;5;241m3\u001b[39m,\n\u001b[0;32m      6\u001b[0m     link_widths\u001b[38;5;241m=\u001b[39m\u001b[38;5;241m0\u001b[39m,\n\u001b[0;32m      7\u001b[0m     flow\u001b[38;5;241m=\u001b[39mflow,\n\u001b[0;32m      8\u001b[0m     color_geomap\u001b[38;5;241m=\u001b[39m\u001b[38;5;28;01mTrue\u001b[39;00m,\n\u001b[1;32m----> 9\u001b[0m     projection\u001b[38;5;241m=\u001b[39mccrs\u001b[38;5;241m.\u001b[39mEqualEarth(),\n\u001b[0;32m     10\u001b[0m     line_colors\u001b[38;5;241m=\u001b[39mnetwork\u001b[38;5;241m.\u001b[39mlines_t\u001b[38;5;241m.\u001b[39mp0\u001b[38;5;241m.\u001b[39mmean()\u001b[38;5;241m.\u001b[39mabs(),\n\u001b[0;32m     11\u001b[0m )\n\u001b[0;32m     12\u001b[0m plt\u001b[38;5;241m.\u001b[39mcolorbar(plot_graph[\u001b[38;5;241m2\u001b[39m], fraction\u001b[38;5;241m=\u001b[39m\u001b[38;5;241m0.04\u001b[39m, pad\u001b[38;5;241m=\u001b[39m\u001b[38;5;241m0.004\u001b[39m, label\u001b[38;5;241m=\u001b[39m\u001b[38;5;124m\"\u001b[39m\u001b[38;5;124mFlow in MW\u001b[39m\u001b[38;5;124m\"\u001b[39m)\n\u001b[0;32m     13\u001b[0m plt\u001b[38;5;241m.\u001b[39mshow()\n",
      "\u001b[1;31mNameError\u001b[0m: name 'ccrs' is not defined"
     ]
    }
   ],
   "source": [
    "plot_graph=network.plot(\n",
    "    bus_sizes=gen/10,\n",
    "    bus_colors={\"gen_ost1\":\"midnightblue\",\"gen_ost2\": \"black\",\"gen_ost3\": \"yellow\", \"gen_no1\": \"gray\",\"gen_no2\":\"gray\",\"gen_no3\":\"midnightblue\",\"gen_west1\":\"cyan\",\"gen_west2\":\"yellow\",\"gen_west3\":\"gray\"},\n",
    "    margin=1,\n",
    "    line_widths=3,\n",
    "    link_widths=0,\n",
    "    flow=flow,\n",
    "    color_geomap=True,\n",
    "    projection=ccrs.EqualEarth(),\n",
    "    line_colors=network.lines_t.p0.mean().abs(),\n",
    ")\n",
    "plt.colorbar(plot_graph[2], fraction=0.04, pad=0.004, label=\"Flow in MW\")\n",
    "plt.show()"
   ]
  },
  {
   "cell_type": "code",
   "execution_count": null,
   "metadata": {},
   "outputs": [],
   "source": [
    "import cartopy.crs as ccrs\n"
   ]
  }
 ],
 "metadata": {
  "kernelspec": {
   "display_name": "base",
   "language": "python",
   "name": "python3"
  },
  "language_info": {
   "codemirror_mode": {
    "name": "ipython",
    "version": 3
   },
   "file_extension": ".py",
   "mimetype": "text/x-python",
   "name": "python",
   "nbconvert_exporter": "python",
   "pygments_lexer": "ipython3",
   "version": "3.12.7"
  }
 },
 "nbformat": 4,
 "nbformat_minor": 2
}
